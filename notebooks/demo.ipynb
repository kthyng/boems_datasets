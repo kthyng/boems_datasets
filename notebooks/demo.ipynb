{
 "cells": [
  {
   "cell_type": "code",
   "execution_count": 2,
   "id": "c0acffd4-73b7-443c-b307-3a1c108ae0a7",
   "metadata": {},
   "outputs": [],
   "source": [
    "import requests\n",
    "import pandas as pd\n",
    "import intake\n",
    "import search\n",
    "# import search.ErddapReader as ErddapReader\n",
    "# import search.axdsReader as axdsReader\n",
    "# import search.localReader as localReader\n",
    "# from search.Data import Data\n",
    "import xarray as xr\n",
    "import numpy as np\n",
    "from joblib import Parallel, delayed\n",
    "import multiprocessing"
   ]
  },
  {
   "cell_type": "markdown",
   "id": "f9a8da77-4323-4adf-b143-7c607b36798c",
   "metadata": {},
   "source": [
    "# Search for data\n",
    "\n",
    "The databases checked are:\n",
    "1. ERDDAP servers for IOOS and Coastwatch\n",
    "2. Axiom database looking for type platform2 and layer_group\n",
    "3. Local user-input files.\n",
    "\n",
    "Each reader has the attributes `dataset_ids`, `meta`, and `data`, and the `search.Data` class wraps them. I think the readers are pretty good, but the `search.Data` class still needs some inspiration."
   ]
  },
  {
   "cell_type": "markdown",
   "id": "bf49e1e7-5fbe-4730-ab33-e295f90150b9",
   "metadata": {},
   "source": [
    "Important questions:\n",
    "\n",
    "1. Data is returned in dataframes or datasets. Is that ok to have two types?\n",
    "2. Currently dataset_ids, metadata, and data is returned in a dictionary form, one entry for each reader/source, and separate entries for each dataset. Should these be combined instead?\n",
    "3. How should this be sped up? The data is pretty slow. Save locally? Even setting up the lazy Datasets has been sometimes slow, sometimes fast.\n",
    "4. The names are pretty bad, especially \"search\", \"data\", and the readers and variable names aren't always great."
   ]
  },
  {
   "cell_type": "markdown",
   "id": "a92b2bc0-ec3f-4004-a1d7-d553f5f42fd8",
   "metadata": {},
   "source": [
    "## Quick Demos"
   ]
  },
  {
   "cell_type": "markdown",
   "id": "2543cc44-0501-4bf5-8b54-e2fee527f774",
   "metadata": {},
   "source": [
    "Find dataset_ids for 1 known ERDDAP server (just one to save time)."
   ]
  },
  {
   "cell_type": "code",
   "execution_count": 13,
   "id": "b667e072-020a-4172-8485-0be7660b5f1d",
   "metadata": {},
   "outputs": [],
   "source": [
    "# # SFBOFS\n",
    "# kw = {\n",
    "#     \"min_lon\": -124.0,\n",
    "#     \"max_lon\": -122.0,\n",
    "#     \"min_lat\": 36.0,\n",
    "#     \"max_lat\": 40.0,\n",
    "#     \"min_time\": '2021-4-1', # \"2016-07-10T00:00:00\",#Z\",\n",
    "#     \"max_time\": '2021-4-2', # \"2017-02-10T00:00:00\",#Z\"\n",
    "# }\n",
    "# # Gulf of Mexico \n",
    "# kw = {\n",
    "#     \"min_lon\": -99.0,\n",
    "#     \"max_lon\": -88.0,\n",
    "#     \"min_lat\": 20.0,\n",
    "#     \"max_lat\": 30.0,\n",
    "#     \"min_time\": '2020-1-1', # \"2016-07-10T00:00:00\",#Z\",\n",
    "#     \"max_time\": '2021-1-2', # \"2017-02-10T00:00:00\",#Z\"\n",
    "# }\n",
    "# # full U.S.\n",
    "# kw = {\n",
    "#     \"min_lon\": -195,# -99.0,\n",
    "#     \"max_lon\": -60, #-88.0,\n",
    "#     \"min_lat\": 17, #20.0,\n",
    "#     \"max_lat\": 80, #30.0,\n",
    "#     \"min_time\": '2021-2-1', # \"2016-07-10T00:00:00\",#Z\",\n",
    "#     \"max_time\": '2021-4-1', # \"2017-02-10T00:00:00\",#Z\"\n",
    "# }"
   ]
  },
  {
   "cell_type": "code",
   "execution_count": 14,
   "id": "91e6c840-2553-45a3-b1fd-c0d618b83bcb",
   "metadata": {},
   "outputs": [
    {
     "data": {
      "text/plain": [
       "['gov_noaa_nws_hads_ddde4328',\n",
       " 'noaa_nos_co_ops_9417426',\n",
       " 'gov_usgs_waterdata_11461000',\n",
       " 'gov_usgs_waterdata_11468500',\n",
       " 'gov_noaa_nws_kuki']"
      ]
     },
     "execution_count": 14,
     "metadata": {},
     "output_type": "execute_result"
    }
   ],
   "source": [
    "kw = {\n",
    "    \"min_lon\": -124.0,\n",
    "    \"max_lon\": -123.0,\n",
    "    \"min_lat\": 39.0,\n",
    "    \"max_lat\": 40.0,\n",
    "    \"min_time\": '2021-4-1',\n",
    "    \"max_time\": '2021-4-2',\n",
    "}\n",
    "\n",
    "# setup Data search object\n",
    "data = search.Data(kw=kw, approach='region', \n",
    "                   readers=search.ErddapReader, \n",
    "                   ErddapReader={'known_server': 'ioos'})\n",
    "\n",
    "# find dataset_ids to make sure it works\n",
    "data.dataset_ids[0][:5]\n",
    "\n"
   ]
  },
  {
   "cell_type": "markdown",
   "id": "f53b29ae-48e9-499d-91b0-64b8f59dd47f",
   "metadata": {},
   "source": [
    "You can find the metadata and data, it just might take some time:"
   ]
  },
  {
   "cell_type": "code",
   "execution_count": 15,
   "id": "5a3cc97e-829d-41dd-9a64-288158b2d21e",
   "metadata": {},
   "outputs": [],
   "source": [
    "# to find metadata:\n",
    "# data.meta\n",
    "\n",
    "# to find data:\n",
    "# data.data"
   ]
  },
  {
   "cell_type": "markdown",
   "id": "e01c622f-1281-41ed-8531-98468a0788a2",
   "metadata": {
    "tags": []
   },
   "source": [
    "Set up for finding any datasets for the region in `kw`."
   ]
  },
  {
   "cell_type": "code",
   "execution_count": 16,
   "id": "9f2234aa-cb2a-40ef-bf14-f2f470702e25",
   "metadata": {},
   "outputs": [],
   "source": [
    "data = search.Data(kw=kw, approach='region')"
   ]
  },
  {
   "cell_type": "markdown",
   "id": "0f34183d-5487-43ed-823b-e3b7ac034dbc",
   "metadata": {},
   "source": [
    "Find the data for that station you care about, but you just know the source name of it. There is just one dataset_id returned, but it is in a list of lists because more than one reader set up was checked for that station name."
   ]
  },
  {
   "cell_type": "code",
   "execution_count": 17,
   "id": "734856b5-5e4e-4e37-b009-2ab93628f7e8",
   "metadata": {},
   "outputs": [
    {
     "data": {
      "text/plain": [
       "[['noaa_nos_co_ops_8770475'], [], [], [], []]"
      ]
     },
     "execution_count": 17,
     "metadata": {},
     "output_type": "execute_result"
    }
   ],
   "source": [
    "data = search.Data(approach='stations', stations='8770475')\n",
    "data.dataset_ids"
   ]
  },
  {
   "cell_type": "markdown",
   "id": "c7b7da5d-130e-4d2a-9321-59403f52ab6f",
   "metadata": {},
   "source": [
    "Get the associated metadata by indexing into the zeroth space since that is where the dataset_id was located."
   ]
  },
  {
   "cell_type": "code",
   "execution_count": 18,
   "id": "5dfff8b8-d615-46db-8d4f-2c39e0816f96",
   "metadata": {},
   "outputs": [
    {
     "data": {
      "text/html": [
       "<div>\n",
       "<style scoped>\n",
       "    .dataframe tbody tr th:only-of-type {\n",
       "        vertical-align: middle;\n",
       "    }\n",
       "\n",
       "    .dataframe tbody tr th {\n",
       "        vertical-align: top;\n",
       "    }\n",
       "\n",
       "    .dataframe thead th {\n",
       "        text-align: right;\n",
       "    }\n",
       "</style>\n",
       "<table border=\"1\" class=\"dataframe\">\n",
       "  <thead>\n",
       "    <tr style=\"text-align: right;\">\n",
       "      <th></th>\n",
       "      <th>database</th>\n",
       "      <th>download_url</th>\n",
       "      <th>geospatial_lat_min</th>\n",
       "      <th>geospatial_lat_max</th>\n",
       "      <th>geospatial_lon_min</th>\n",
       "      <th>geospatial_lon_max</th>\n",
       "      <th>time_coverage_start</th>\n",
       "      <th>time_coverage_end</th>\n",
       "      <th>defaultDataQuery</th>\n",
       "      <th>subsetVariables</th>\n",
       "      <th>keywords</th>\n",
       "      <th>id</th>\n",
       "      <th>infoUrl</th>\n",
       "      <th>institution</th>\n",
       "      <th>featureType</th>\n",
       "      <th>source</th>\n",
       "      <th>sourceUrl</th>\n",
       "      <th>variable names</th>\n",
       "    </tr>\n",
       "  </thead>\n",
       "  <tbody>\n",
       "    <tr>\n",
       "      <th>noaa_nos_co_ops_8770475</th>\n",
       "      <td>http://erddap.sensors.ioos.us/erddap</td>\n",
       "      <td>http://erddap.sensors.ioos.us/erddap/tabledap/...</td>\n",
       "      <td>29.8667</td>\n",
       "      <td>29.8667</td>\n",
       "      <td>-93.93</td>\n",
       "      <td>-93.93</td>\n",
       "      <td>2015-05-05T13:00:00Z</td>\n",
       "      <td>2021-05-10T12:29:00Z</td>\n",
       "      <td>sea_surface_height_above_sea_level_geoid_mllw,...</td>\n",
       "      <td>NA</td>\n",
       "      <td>NA</td>\n",
       "      <td>45587</td>\n",
       "      <td>https://sensors.ioos.us/#metadata/45587/station</td>\n",
       "      <td>NOAA Center for Operational Oceanographic Prod...</td>\n",
       "      <td>TimeSeries</td>\n",
       "      <td>NA</td>\n",
       "      <td>https://sensors.axds.co/api/</td>\n",
       "      <td>None</td>\n",
       "    </tr>\n",
       "  </tbody>\n",
       "</table>\n",
       "</div>"
      ],
      "text/plain": [
       "                                                     database  \\\n",
       "noaa_nos_co_ops_8770475  http://erddap.sensors.ioos.us/erddap   \n",
       "\n",
       "                                                              download_url  \\\n",
       "noaa_nos_co_ops_8770475  http://erddap.sensors.ioos.us/erddap/tabledap/...   \n",
       "\n",
       "                         geospatial_lat_min  geospatial_lat_max  \\\n",
       "noaa_nos_co_ops_8770475             29.8667             29.8667   \n",
       "\n",
       "                         geospatial_lon_min  geospatial_lon_max  \\\n",
       "noaa_nos_co_ops_8770475              -93.93              -93.93   \n",
       "\n",
       "                          time_coverage_start     time_coverage_end  \\\n",
       "noaa_nos_co_ops_8770475  2015-05-05T13:00:00Z  2021-05-10T12:29:00Z   \n",
       "\n",
       "                                                          defaultDataQuery  \\\n",
       "noaa_nos_co_ops_8770475  sea_surface_height_above_sea_level_geoid_mllw,...   \n",
       "\n",
       "                        subsetVariables keywords     id  \\\n",
       "noaa_nos_co_ops_8770475              NA       NA  45587   \n",
       "\n",
       "                                                                 infoUrl  \\\n",
       "noaa_nos_co_ops_8770475  https://sensors.ioos.us/#metadata/45587/station   \n",
       "\n",
       "                                                               institution  \\\n",
       "noaa_nos_co_ops_8770475  NOAA Center for Operational Oceanographic Prod...   \n",
       "\n",
       "                        featureType source                     sourceUrl  \\\n",
       "noaa_nos_co_ops_8770475  TimeSeries     NA  https://sensors.axds.co/api/   \n",
       "\n",
       "                        variable names  \n",
       "noaa_nos_co_ops_8770475           None  "
      ]
     },
     "execution_count": 18,
     "metadata": {},
     "output_type": "execute_result"
    }
   ],
   "source": [
    "data.meta[0]"
   ]
  },
  {
   "cell_type": "markdown",
   "id": "a1434ab3-45d9-4591-929b-17f65286bcf3",
   "metadata": {},
   "source": [
    "Get the data by first indexing into the list, then by station name:"
   ]
  },
  {
   "cell_type": "code",
   "execution_count": 19,
   "id": "ddc78142-1764-4c76-9c1e-43d822b0555c",
   "metadata": {},
   "outputs": [
    {
     "data": {
      "text/html": [
       "<div>\n",
       "<style scoped>\n",
       "    .dataframe tbody tr th:only-of-type {\n",
       "        vertical-align: middle;\n",
       "    }\n",
       "\n",
       "    .dataframe tbody tr th {\n",
       "        vertical-align: top;\n",
       "    }\n",
       "\n",
       "    .dataframe thead th {\n",
       "        text-align: right;\n",
       "    }\n",
       "</style>\n",
       "<table border=\"1\" class=\"dataframe\">\n",
       "  <thead>\n",
       "    <tr style=\"text-align: right;\">\n",
       "      <th></th>\n",
       "      <th>latitude (degrees_north)</th>\n",
       "      <th>longitude (degrees_east)</th>\n",
       "      <th>z (m)</th>\n",
       "      <th>air_pressure (millibars)</th>\n",
       "      <th>air_temperature (degree_Celsius)</th>\n",
       "      <th>sea_water_temperature (degree_Celsius)</th>\n",
       "      <th>sea_surface_height_amplitude_due_to_geocentric_ocean_tide_geoid_mllw (cm)</th>\n",
       "      <th>sea_surface_height_above_sea_level_geoid_mllw (m)</th>\n",
       "      <th>wind_speed_of_gust (mile.hour-1)</th>\n",
       "      <th>wind_speed (m.s-1)</th>\n",
       "      <th>wind_from_direction (degrees)</th>\n",
       "      <th>station</th>\n",
       "    </tr>\n",
       "    <tr>\n",
       "      <th>time (UTC)</th>\n",
       "      <th></th>\n",
       "      <th></th>\n",
       "      <th></th>\n",
       "      <th></th>\n",
       "      <th></th>\n",
       "      <th></th>\n",
       "      <th></th>\n",
       "      <th></th>\n",
       "      <th></th>\n",
       "      <th></th>\n",
       "      <th></th>\n",
       "      <th></th>\n",
       "    </tr>\n",
       "  </thead>\n",
       "  <tbody>\n",
       "    <tr>\n",
       "      <th>2021-04-02 00:00:00+00:00</th>\n",
       "      <td>29.8667</td>\n",
       "      <td>-93.93</td>\n",
       "      <td>0.0</td>\n",
       "      <td>1027.6</td>\n",
       "      <td>18.5</td>\n",
       "      <td>19.6</td>\n",
       "      <td>NaN</td>\n",
       "      <td>0.380</td>\n",
       "      <td>16.553</td>\n",
       "      <td>5.8</td>\n",
       "      <td>6.0</td>\n",
       "      <td>Port Arthur, TX</td>\n",
       "    </tr>\n",
       "    <tr>\n",
       "      <th>2021-04-01 23:54:00+00:00</th>\n",
       "      <td>29.8667</td>\n",
       "      <td>-93.93</td>\n",
       "      <td>0.0</td>\n",
       "      <td>1027.6</td>\n",
       "      <td>18.6</td>\n",
       "      <td>19.6</td>\n",
       "      <td>NaN</td>\n",
       "      <td>0.389</td>\n",
       "      <td>17.672</td>\n",
       "      <td>5.7</td>\n",
       "      <td>4.0</td>\n",
       "      <td>Port Arthur, TX</td>\n",
       "    </tr>\n",
       "    <tr>\n",
       "      <th>2021-04-01 23:48:00+00:00</th>\n",
       "      <td>29.8667</td>\n",
       "      <td>-93.93</td>\n",
       "      <td>0.0</td>\n",
       "      <td>1027.6</td>\n",
       "      <td>18.7</td>\n",
       "      <td>19.6</td>\n",
       "      <td>30.0</td>\n",
       "      <td>0.397</td>\n",
       "      <td>18.790</td>\n",
       "      <td>5.9</td>\n",
       "      <td>358.0</td>\n",
       "      <td>Port Arthur, TX</td>\n",
       "    </tr>\n",
       "    <tr>\n",
       "      <th>2021-04-01 23:42:00+00:00</th>\n",
       "      <td>29.8667</td>\n",
       "      <td>-93.93</td>\n",
       "      <td>0.0</td>\n",
       "      <td>1027.5</td>\n",
       "      <td>18.7</td>\n",
       "      <td>19.6</td>\n",
       "      <td>NaN</td>\n",
       "      <td>0.428</td>\n",
       "      <td>17.001</td>\n",
       "      <td>5.2</td>\n",
       "      <td>10.0</td>\n",
       "      <td>Port Arthur, TX</td>\n",
       "    </tr>\n",
       "    <tr>\n",
       "      <th>2021-04-01 23:36:00+00:00</th>\n",
       "      <td>29.8667</td>\n",
       "      <td>-93.93</td>\n",
       "      <td>0.0</td>\n",
       "      <td>1027.5</td>\n",
       "      <td>18.8</td>\n",
       "      <td>19.6</td>\n",
       "      <td>NaN</td>\n",
       "      <td>0.409</td>\n",
       "      <td>18.119</td>\n",
       "      <td>6.6</td>\n",
       "      <td>9.0</td>\n",
       "      <td>Port Arthur, TX</td>\n",
       "    </tr>\n",
       "    <tr>\n",
       "      <th>...</th>\n",
       "      <td>...</td>\n",
       "      <td>...</td>\n",
       "      <td>...</td>\n",
       "      <td>...</td>\n",
       "      <td>...</td>\n",
       "      <td>...</td>\n",
       "      <td>...</td>\n",
       "      <td>...</td>\n",
       "      <td>...</td>\n",
       "      <td>...</td>\n",
       "      <td>...</td>\n",
       "      <td>...</td>\n",
       "    </tr>\n",
       "    <tr>\n",
       "      <th>2021-04-01 00:24:00+00:00</th>\n",
       "      <td>29.8667</td>\n",
       "      <td>-93.93</td>\n",
       "      <td>0.0</td>\n",
       "      <td>1022.9</td>\n",
       "      <td>16.4</td>\n",
       "      <td>20.7</td>\n",
       "      <td>NaN</td>\n",
       "      <td>0.329</td>\n",
       "      <td>21.698</td>\n",
       "      <td>6.4</td>\n",
       "      <td>5.0</td>\n",
       "      <td>Port Arthur, TX</td>\n",
       "    </tr>\n",
       "    <tr>\n",
       "      <th>2021-04-01 00:18:00+00:00</th>\n",
       "      <td>29.8667</td>\n",
       "      <td>-93.93</td>\n",
       "      <td>0.0</td>\n",
       "      <td>1022.8</td>\n",
       "      <td>16.4</td>\n",
       "      <td>20.7</td>\n",
       "      <td>NaN</td>\n",
       "      <td>0.340</td>\n",
       "      <td>22.593</td>\n",
       "      <td>7.5</td>\n",
       "      <td>3.0</td>\n",
       "      <td>Port Arthur, TX</td>\n",
       "    </tr>\n",
       "    <tr>\n",
       "      <th>2021-04-01 00:12:00+00:00</th>\n",
       "      <td>29.8667</td>\n",
       "      <td>-93.93</td>\n",
       "      <td>0.0</td>\n",
       "      <td>1022.8</td>\n",
       "      <td>16.3</td>\n",
       "      <td>20.7</td>\n",
       "      <td>NaN</td>\n",
       "      <td>0.343</td>\n",
       "      <td>20.132</td>\n",
       "      <td>7.1</td>\n",
       "      <td>4.0</td>\n",
       "      <td>Port Arthur, TX</td>\n",
       "    </tr>\n",
       "    <tr>\n",
       "      <th>2021-04-01 00:06:00+00:00</th>\n",
       "      <td>29.8667</td>\n",
       "      <td>-93.93</td>\n",
       "      <td>0.0</td>\n",
       "      <td>1022.6</td>\n",
       "      <td>16.3</td>\n",
       "      <td>20.8</td>\n",
       "      <td>NaN</td>\n",
       "      <td>0.308</td>\n",
       "      <td>24.606</td>\n",
       "      <td>6.7</td>\n",
       "      <td>9.0</td>\n",
       "      <td>Port Arthur, TX</td>\n",
       "    </tr>\n",
       "    <tr>\n",
       "      <th>2021-04-01 00:00:00+00:00</th>\n",
       "      <td>29.8667</td>\n",
       "      <td>-93.93</td>\n",
       "      <td>0.0</td>\n",
       "      <td>1022.6</td>\n",
       "      <td>16.4</td>\n",
       "      <td>20.8</td>\n",
       "      <td>NaN</td>\n",
       "      <td>0.343</td>\n",
       "      <td>22.817</td>\n",
       "      <td>7.5</td>\n",
       "      <td>6.0</td>\n",
       "      <td>Port Arthur, TX</td>\n",
       "    </tr>\n",
       "  </tbody>\n",
       "</table>\n",
       "<p>243 rows × 12 columns</p>\n",
       "</div>"
      ],
      "text/plain": [
       "                           latitude (degrees_north)  longitude (degrees_east)  \\\n",
       "time (UTC)                                                                      \n",
       "2021-04-02 00:00:00+00:00                   29.8667                    -93.93   \n",
       "2021-04-01 23:54:00+00:00                   29.8667                    -93.93   \n",
       "2021-04-01 23:48:00+00:00                   29.8667                    -93.93   \n",
       "2021-04-01 23:42:00+00:00                   29.8667                    -93.93   \n",
       "2021-04-01 23:36:00+00:00                   29.8667                    -93.93   \n",
       "...                                             ...                       ...   \n",
       "2021-04-01 00:24:00+00:00                   29.8667                    -93.93   \n",
       "2021-04-01 00:18:00+00:00                   29.8667                    -93.93   \n",
       "2021-04-01 00:12:00+00:00                   29.8667                    -93.93   \n",
       "2021-04-01 00:06:00+00:00                   29.8667                    -93.93   \n",
       "2021-04-01 00:00:00+00:00                   29.8667                    -93.93   \n",
       "\n",
       "                           z (m)  air_pressure (millibars)  \\\n",
       "time (UTC)                                                   \n",
       "2021-04-02 00:00:00+00:00    0.0                    1027.6   \n",
       "2021-04-01 23:54:00+00:00    0.0                    1027.6   \n",
       "2021-04-01 23:48:00+00:00    0.0                    1027.6   \n",
       "2021-04-01 23:42:00+00:00    0.0                    1027.5   \n",
       "2021-04-01 23:36:00+00:00    0.0                    1027.5   \n",
       "...                          ...                       ...   \n",
       "2021-04-01 00:24:00+00:00    0.0                    1022.9   \n",
       "2021-04-01 00:18:00+00:00    0.0                    1022.8   \n",
       "2021-04-01 00:12:00+00:00    0.0                    1022.8   \n",
       "2021-04-01 00:06:00+00:00    0.0                    1022.6   \n",
       "2021-04-01 00:00:00+00:00    0.0                    1022.6   \n",
       "\n",
       "                           air_temperature (degree_Celsius)  \\\n",
       "time (UTC)                                                    \n",
       "2021-04-02 00:00:00+00:00                              18.5   \n",
       "2021-04-01 23:54:00+00:00                              18.6   \n",
       "2021-04-01 23:48:00+00:00                              18.7   \n",
       "2021-04-01 23:42:00+00:00                              18.7   \n",
       "2021-04-01 23:36:00+00:00                              18.8   \n",
       "...                                                     ...   \n",
       "2021-04-01 00:24:00+00:00                              16.4   \n",
       "2021-04-01 00:18:00+00:00                              16.4   \n",
       "2021-04-01 00:12:00+00:00                              16.3   \n",
       "2021-04-01 00:06:00+00:00                              16.3   \n",
       "2021-04-01 00:00:00+00:00                              16.4   \n",
       "\n",
       "                           sea_water_temperature (degree_Celsius)  \\\n",
       "time (UTC)                                                          \n",
       "2021-04-02 00:00:00+00:00                                    19.6   \n",
       "2021-04-01 23:54:00+00:00                                    19.6   \n",
       "2021-04-01 23:48:00+00:00                                    19.6   \n",
       "2021-04-01 23:42:00+00:00                                    19.6   \n",
       "2021-04-01 23:36:00+00:00                                    19.6   \n",
       "...                                                           ...   \n",
       "2021-04-01 00:24:00+00:00                                    20.7   \n",
       "2021-04-01 00:18:00+00:00                                    20.7   \n",
       "2021-04-01 00:12:00+00:00                                    20.7   \n",
       "2021-04-01 00:06:00+00:00                                    20.8   \n",
       "2021-04-01 00:00:00+00:00                                    20.8   \n",
       "\n",
       "                           sea_surface_height_amplitude_due_to_geocentric_ocean_tide_geoid_mllw (cm)  \\\n",
       "time (UTC)                                                                                             \n",
       "2021-04-02 00:00:00+00:00                                                NaN                           \n",
       "2021-04-01 23:54:00+00:00                                                NaN                           \n",
       "2021-04-01 23:48:00+00:00                                               30.0                           \n",
       "2021-04-01 23:42:00+00:00                                                NaN                           \n",
       "2021-04-01 23:36:00+00:00                                                NaN                           \n",
       "...                                                                      ...                           \n",
       "2021-04-01 00:24:00+00:00                                                NaN                           \n",
       "2021-04-01 00:18:00+00:00                                                NaN                           \n",
       "2021-04-01 00:12:00+00:00                                                NaN                           \n",
       "2021-04-01 00:06:00+00:00                                                NaN                           \n",
       "2021-04-01 00:00:00+00:00                                                NaN                           \n",
       "\n",
       "                           sea_surface_height_above_sea_level_geoid_mllw (m)  \\\n",
       "time (UTC)                                                                     \n",
       "2021-04-02 00:00:00+00:00                                              0.380   \n",
       "2021-04-01 23:54:00+00:00                                              0.389   \n",
       "2021-04-01 23:48:00+00:00                                              0.397   \n",
       "2021-04-01 23:42:00+00:00                                              0.428   \n",
       "2021-04-01 23:36:00+00:00                                              0.409   \n",
       "...                                                                      ...   \n",
       "2021-04-01 00:24:00+00:00                                              0.329   \n",
       "2021-04-01 00:18:00+00:00                                              0.340   \n",
       "2021-04-01 00:12:00+00:00                                              0.343   \n",
       "2021-04-01 00:06:00+00:00                                              0.308   \n",
       "2021-04-01 00:00:00+00:00                                              0.343   \n",
       "\n",
       "                           wind_speed_of_gust (mile.hour-1)  \\\n",
       "time (UTC)                                                    \n",
       "2021-04-02 00:00:00+00:00                            16.553   \n",
       "2021-04-01 23:54:00+00:00                            17.672   \n",
       "2021-04-01 23:48:00+00:00                            18.790   \n",
       "2021-04-01 23:42:00+00:00                            17.001   \n",
       "2021-04-01 23:36:00+00:00                            18.119   \n",
       "...                                                     ...   \n",
       "2021-04-01 00:24:00+00:00                            21.698   \n",
       "2021-04-01 00:18:00+00:00                            22.593   \n",
       "2021-04-01 00:12:00+00:00                            20.132   \n",
       "2021-04-01 00:06:00+00:00                            24.606   \n",
       "2021-04-01 00:00:00+00:00                            22.817   \n",
       "\n",
       "                           wind_speed (m.s-1)  wind_from_direction (degrees)  \\\n",
       "time (UTC)                                                                     \n",
       "2021-04-02 00:00:00+00:00                 5.8                            6.0   \n",
       "2021-04-01 23:54:00+00:00                 5.7                            4.0   \n",
       "2021-04-01 23:48:00+00:00                 5.9                          358.0   \n",
       "2021-04-01 23:42:00+00:00                 5.2                           10.0   \n",
       "2021-04-01 23:36:00+00:00                 6.6                            9.0   \n",
       "...                                       ...                            ...   \n",
       "2021-04-01 00:24:00+00:00                 6.4                            5.0   \n",
       "2021-04-01 00:18:00+00:00                 7.5                            3.0   \n",
       "2021-04-01 00:12:00+00:00                 7.1                            4.0   \n",
       "2021-04-01 00:06:00+00:00                 6.7                            9.0   \n",
       "2021-04-01 00:00:00+00:00                 7.5                            6.0   \n",
       "\n",
       "                                   station  \n",
       "time (UTC)                                  \n",
       "2021-04-02 00:00:00+00:00  Port Arthur, TX  \n",
       "2021-04-01 23:54:00+00:00  Port Arthur, TX  \n",
       "2021-04-01 23:48:00+00:00  Port Arthur, TX  \n",
       "2021-04-01 23:42:00+00:00  Port Arthur, TX  \n",
       "2021-04-01 23:36:00+00:00  Port Arthur, TX  \n",
       "...                                    ...  \n",
       "2021-04-01 00:24:00+00:00  Port Arthur, TX  \n",
       "2021-04-01 00:18:00+00:00  Port Arthur, TX  \n",
       "2021-04-01 00:12:00+00:00  Port Arthur, TX  \n",
       "2021-04-01 00:06:00+00:00  Port Arthur, TX  \n",
       "2021-04-01 00:00:00+00:00  Port Arthur, TX  \n",
       "\n",
       "[243 rows x 12 columns]"
      ]
     },
     "execution_count": 19,
     "metadata": {},
     "output_type": "execute_result"
    }
   ],
   "source": [
    "data.data[0]['noaa_nos_co_ops_8770475']"
   ]
  },
  {
   "cell_type": "markdown",
   "id": "a93d652a-21d6-4a1f-81b4-f4d730e5bbd1",
   "metadata": {},
   "source": [
    "## In Detail"
   ]
  },
  {
   "cell_type": "markdown",
   "id": "af0c9d92-1a80-4365-8c92-b99e22a1626d",
   "metadata": {},
   "source": [
    "### General Options"
   ]
  },
  {
   "cell_type": "markdown",
   "id": "a1536e24-4116-4163-953f-2ad16c00b02a",
   "metadata": {},
   "source": [
    "#### Parallel"
   ]
  },
  {
   "cell_type": "markdown",
   "id": "b28e7aec-a542-4523-af01-390eca78df31",
   "metadata": {},
   "source": [
    "You can control readers individually as needed. For example, you could input the keyword `parallel`, which every reader accepts, per individual reader (in case you want different values for different readers), or you can input it for all readers by including it in `kwargs` generally. It runs in parallel using the `joblib` `Parallel` and `delayed` modules with `multiprocesses` — running loops on different cores."
   ]
  },
  {
   "cell_type": "code",
   "execution_count": 25,
   "id": "05269073-6314-4ca2-b4e4-c1c5f6f58160",
   "metadata": {
    "tags": []
   },
   "outputs": [],
   "source": [
    "kwargs = {\n",
    "          'kw': kw, \n",
    "          'approach': 'region',\n",
    "          'parallel': True,    \n",
    "          'ErddapReader': {\n",
    "                           'known_server': 'ioos',\n",
    "#                            'parallel': False,\n",
    "                           'variables': 'salinity',\n",
    "          },\n",
    "          'axdsReader': {'catalog_name': None,\n",
    "#                          'parallel': True,\n",
    "                         'axds_type': 'platform2',\n",
    "                         'variables': 'Salinity'},\n",
    "          }\n",
    "data = search.Data(**kwargs)"
   ]
  },
  {
   "cell_type": "markdown",
   "id": "7cc00fa2-2428-49c6-8e94-a3f99990c348",
   "metadata": {},
   "source": [
    "#### Reader Choice\n",
    "\n",
    "Your reader choices can be selected as follows, where the `ErddapReader` connects to ERDDAP servers, the `axdsReader` connects to Axiom databases, and the `localReader` enables easy local file read-in. If you don't input any reader, it will use all of them. Alternatively you can input some subset."
   ]
  },
  {
   "cell_type": "code",
   "execution_count": 26,
   "id": "608f2a5b-51cf-41ae-aeea-825cc79fd543",
   "metadata": {},
   "outputs": [],
   "source": [
    "readers = [search.ErddapReader,\n",
    "           search.axdsReader,\n",
    "           search.localReader]"
   ]
  },
  {
   "cell_type": "markdown",
   "id": "f0d63dd9-068b-42fb-bb88-00fdb61498f4",
   "metadata": {},
   "source": [
    "Use only ERDDAP reader and Axiom reader:"
   ]
  },
  {
   "cell_type": "code",
   "execution_count": 27,
   "id": "06d949c6-4664-4ef7-be3f-05357a61103f",
   "metadata": {},
   "outputs": [],
   "source": [
    "data = search.Data(kw=kw, approach='region', \n",
    "                   readers=[search.ErddapReader,\n",
    "                            search.axdsReader])"
   ]
  },
  {
   "cell_type": "markdown",
   "id": "63f7cfa2-4447-44e0-848f-17f35c590686",
   "metadata": {},
   "source": [
    "### By Region"
   ]
  },
  {
   "cell_type": "markdown",
   "id": "4a87e543-0d79-44cd-b0dc-a4ef5cdea35e",
   "metadata": {},
   "source": [
    "All variables: don't input anything or use:"
   ]
  },
  {
   "cell_type": "code",
   "execution_count": 28,
   "id": "033d5984-289b-4856-a8a8-bf0840ee33c6",
   "metadata": {},
   "outputs": [],
   "source": [
    "kwargs = {\n",
    "          'kw': kw, \n",
    "          'approach': 'region',\n",
    "          'readers': [search.ErddapReader,\n",
    "                      search.axdsReader],\n",
    "          'variables': None\n",
    "}\n",
    "data = search.Data(**kwargs)"
   ]
  },
  {
   "cell_type": "markdown",
   "id": "a800d2f8-dd76-473b-b341-acba6f2d7fd8",
   "metadata": {},
   "source": [
    "#### By Variable(s)"
   ]
  },
  {
   "cell_type": "markdown",
   "id": "a3270056-7485-4ba6-8bb1-27da9096b514",
   "metadata": {},
   "source": [
    "If no `variables` are specified for a given reader, datasets with any variables will be returned from a search. This is most relevant for a `region` search.\n",
    "\n",
    "However, if you want to specify a variable or variables, keep in mind that different readers have different names for variables, which is why you can't just input a variable name for all the readers. \n",
    "\n",
    "This is only relevant for the ERDDAP and Axiom readers currently (it will retain all variables in local files), and only the Axiom reader of type `platform2` will search by variable.\n",
    "\n",
    "Let's say you want to search for salinity. You can input the base of the word as `variables` (\"sal\" or \"salinity\" but not \"salt\" since the checker searches for matches with the whole input variable name and \"salt\" isn't used for any variable names) and the code will make sure it exactly matches a known variable name. If it cannot match, it will throw an error with suggestions. This is not done automatically since for example \"soil_salinity\" matches for \"salinity\". You need to do this for each `known_server` for the `ErddapReader` separately, and variables will only be used for filter for the `axdsReader` for `axds_type='platform2'`.\n",
    "\n",
    "TODO: DEFAULT VARIABLES FOR BOEM SET UP"
   ]
  },
  {
   "cell_type": "code",
   "execution_count": 29,
   "id": "353f662b-8a97-4c6b-9cae-20ab9a325dfe",
   "metadata": {
    "collapsed": true,
    "jupyter": {
     "outputs_hidden": true
    },
    "tags": []
   },
   "outputs": [
    {
     "ename": "AssertionError",
     "evalue": "The input variables are not exact matches to ok variables for known_server ioos.                      \nCheck all parameter group values with `ErddapReader().all_variables()`                      \nor search parameter group values with `ErddapReader().search_variables(['sal'])`.                     \n\n Try some of the following variables:\n                                                count\nvariable                                             \nsalinity                                          952\nsalinity_qc                                       952\nsea_water_practical_salinity                      778\nsoil_salinity_qc_agg                              622\nsoil_salinity                                     622\n...                                               ...\nsea_water_practical_salinity_4161sc_a_qc_tests      1\nsea_water_practical_salinity_6754mc_a_qc_tests      1\nsea_water_practical_salinity_6754mc_a_qc_agg        1\nsea_water_practical_salinity_4161sc_a_qc_agg        1\nsea_water_practical_salinity_10091sc_a              1\n\n[1148 rows x 1 columns]",
     "output_type": "error",
     "traceback": [
      "\u001b[0;31m---------------------------------------------------------------------------\u001b[0m",
      "\u001b[0;31mAssertionError\u001b[0m                            Traceback (most recent call last)",
      "\u001b[0;32m<ipython-input-29-fab182ca6d5e>\u001b[0m in \u001b[0;36m<module>\u001b[0;34m\u001b[0m\n\u001b[1;32m     17\u001b[0m \u001b[0;34m\u001b[0m\u001b[0m\n\u001b[1;32m     18\u001b[0m \u001b[0;34m\u001b[0m\u001b[0m\n\u001b[0;32m---> 19\u001b[0;31m \u001b[0mdata\u001b[0m \u001b[0;34m=\u001b[0m \u001b[0msearch\u001b[0m\u001b[0;34m.\u001b[0m\u001b[0mData\u001b[0m\u001b[0;34m(\u001b[0m\u001b[0;34m**\u001b[0m\u001b[0mkwargs\u001b[0m\u001b[0;34m)\u001b[0m\u001b[0;34m\u001b[0m\u001b[0;34m\u001b[0m\u001b[0m\n\u001b[0m",
      "\u001b[0;32m~/projects/boem_datasets/search/Data.py\u001b[0m in \u001b[0;36m__init__\u001b[0;34m(self, **kwargs)\u001b[0m\n\u001b[1;32m     56\u001b[0m         \u001b[0mself\u001b[0m\u001b[0;34m.\u001b[0m\u001b[0mkwargs\u001b[0m \u001b[0;34m=\u001b[0m \u001b[0mkwargs\u001b[0m\u001b[0;34m\u001b[0m\u001b[0;34m\u001b[0m\u001b[0m\n\u001b[1;32m     57\u001b[0m \u001b[0;34m\u001b[0m\u001b[0m\n\u001b[0;32m---> 58\u001b[0;31m         \u001b[0mself\u001b[0m\u001b[0;34m.\u001b[0m\u001b[0msources\u001b[0m\u001b[0;34m\u001b[0m\u001b[0;34m\u001b[0m\u001b[0m\n\u001b[0m\u001b[1;32m     59\u001b[0m \u001b[0;34m\u001b[0m\u001b[0m\n\u001b[1;32m     60\u001b[0m     \u001b[0;34m@\u001b[0m\u001b[0mproperty\u001b[0m\u001b[0;34m\u001b[0m\u001b[0;34m\u001b[0m\u001b[0m\n",
      "\u001b[0;32m~/projects/boem_datasets/search/Data.py\u001b[0m in \u001b[0;36msources\u001b[0;34m(self)\u001b[0m\n\u001b[1;32m    152\u001b[0m \u001b[0;34m\u001b[0m\u001b[0m\n\u001b[1;32m    153\u001b[0m                     \u001b[0;32mif\u001b[0m \u001b[0mself\u001b[0m\u001b[0;34m.\u001b[0m\u001b[0mkwargs_all\u001b[0m\u001b[0;34m[\u001b[0m\u001b[0;34m'approach'\u001b[0m\u001b[0;34m]\u001b[0m \u001b[0;34m==\u001b[0m \u001b[0;34m'region'\u001b[0m\u001b[0;34m:\u001b[0m\u001b[0;34m\u001b[0m\u001b[0;34m\u001b[0m\u001b[0m\n\u001b[0;32m--> 154\u001b[0;31m                         \u001b[0mreader\u001b[0m \u001b[0;34m=\u001b[0m \u001b[0msource\u001b[0m\u001b[0;34m.\u001b[0m\u001b[0mregion\u001b[0m\u001b[0;34m(\u001b[0m\u001b[0margs_in\u001b[0m\u001b[0;34m)\u001b[0m\u001b[0;34m\u001b[0m\u001b[0;34m\u001b[0m\u001b[0m\n\u001b[0m\u001b[1;32m    155\u001b[0m                     \u001b[0;32melif\u001b[0m \u001b[0mself\u001b[0m\u001b[0;34m.\u001b[0m\u001b[0mkwargs_all\u001b[0m\u001b[0;34m[\u001b[0m\u001b[0;34m'approach'\u001b[0m\u001b[0;34m]\u001b[0m \u001b[0;34m==\u001b[0m \u001b[0;34m'stations'\u001b[0m\u001b[0;34m:\u001b[0m\u001b[0;34m\u001b[0m\u001b[0;34m\u001b[0m\u001b[0m\n\u001b[1;32m    156\u001b[0m                         \u001b[0mreader\u001b[0m \u001b[0;34m=\u001b[0m \u001b[0msource\u001b[0m\u001b[0;34m.\u001b[0m\u001b[0mstations\u001b[0m\u001b[0;34m(\u001b[0m\u001b[0margs_in\u001b[0m\u001b[0;34m)\u001b[0m\u001b[0;34m\u001b[0m\u001b[0;34m\u001b[0m\u001b[0m\n",
      "\u001b[0;32m~/projects/boem_datasets/search/ErddapReader.py\u001b[0m in \u001b[0;36m__init__\u001b[0;34m(self, kwargs)\u001b[0m\n\u001b[1;32m    470\u001b[0m         \u001b[0;31m# make sure variables are on parameter list\u001b[0m\u001b[0;34m\u001b[0m\u001b[0;34m\u001b[0m\u001b[0;34m\u001b[0m\u001b[0m\n\u001b[1;32m    471\u001b[0m         \u001b[0;32mif\u001b[0m \u001b[0mvariables\u001b[0m \u001b[0;32mis\u001b[0m \u001b[0;32mnot\u001b[0m \u001b[0;32mNone\u001b[0m\u001b[0;34m:\u001b[0m\u001b[0;34m\u001b[0m\u001b[0;34m\u001b[0m\u001b[0m\n\u001b[0;32m--> 472\u001b[0;31m             \u001b[0mself\u001b[0m\u001b[0;34m.\u001b[0m\u001b[0mcheck_variables\u001b[0m\u001b[0;34m(\u001b[0m\u001b[0mvariables\u001b[0m\u001b[0;34m)\u001b[0m\u001b[0;34m\u001b[0m\u001b[0;34m\u001b[0m\u001b[0m\n\u001b[0m\u001b[1;32m    473\u001b[0m         \u001b[0mself\u001b[0m\u001b[0;34m.\u001b[0m\u001b[0mvariables\u001b[0m \u001b[0;34m=\u001b[0m \u001b[0mvariables\u001b[0m\u001b[0;34m\u001b[0m\u001b[0;34m\u001b[0m\u001b[0m\n\u001b[1;32m    474\u001b[0m \u001b[0;34m\u001b[0m\u001b[0m\n",
      "\u001b[0;32m~/projects/boem_datasets/search/ErddapReader.py\u001b[0m in \u001b[0;36mcheck_variables\u001b[0;34m(self, variables, verbose)\u001b[0m\n\u001b[1;32m    437\u001b[0m                      \u001b[0;31m\\\u001b[0m\u001b[0mn\u001b[0m\u001b[0;31m\\\u001b[0m\u001b[0mn\u001b[0m \u001b[0mTry\u001b[0m \u001b[0msome\u001b[0m \u001b[0mof\u001b[0m \u001b[0mthe\u001b[0m \u001b[0mfollowing\u001b[0m \u001b[0mvariables\u001b[0m\u001b[0;34m:\u001b[0m\u001b[0;31m\\\u001b[0m\u001b[0mn\u001b[0m\u001b[0;34m{\u001b[0m\u001b[0mstr\u001b[0m\u001b[0;34m(\u001b[0m\u001b[0mself\u001b[0m\u001b[0;34m.\u001b[0m\u001b[0msearch_variables\u001b[0m\u001b[0;34m(\u001b[0m\u001b[0mvariables\u001b[0m\u001b[0;34m)\u001b[0m\u001b[0;34m)\u001b[0m\u001b[0;34m}\u001b[0m\u001b[0;31m'\u001b[0m\u001b[0;31m# \\\u001b[0m\u001b[0;34m\u001b[0m\u001b[0;34m\u001b[0m\u001b[0m\n\u001b[1;32m    438\u001b[0m \u001b[0;31m#                      \\nor run `ErddapReader().check_variables(\"{variables}\")'\u001b[0m\u001b[0;34m\u001b[0m\u001b[0;34m\u001b[0m\u001b[0;34m\u001b[0m\u001b[0m\n\u001b[0;32m--> 439\u001b[0;31m         \u001b[0;32massert\u001b[0m \u001b[0mcondition\u001b[0m\u001b[0;34m,\u001b[0m \u001b[0massertion\u001b[0m\u001b[0;34m\u001b[0m\u001b[0;34m\u001b[0m\u001b[0m\n\u001b[0m\u001b[1;32m    440\u001b[0m \u001b[0;34m\u001b[0m\u001b[0m\n\u001b[1;32m    441\u001b[0m         \u001b[0;32mif\u001b[0m \u001b[0mcondition\u001b[0m \u001b[0;32mand\u001b[0m \u001b[0mverbose\u001b[0m\u001b[0;34m:\u001b[0m\u001b[0;34m\u001b[0m\u001b[0;34m\u001b[0m\u001b[0m\n",
      "\u001b[0;31mAssertionError\u001b[0m: The input variables are not exact matches to ok variables for known_server ioos.                      \nCheck all parameter group values with `ErddapReader().all_variables()`                      \nor search parameter group values with `ErddapReader().search_variables(['sal'])`.                     \n\n Try some of the following variables:\n                                                count\nvariable                                             \nsalinity                                          952\nsalinity_qc                                       952\nsea_water_practical_salinity                      778\nsoil_salinity_qc_agg                              622\nsoil_salinity                                     622\n...                                               ...\nsea_water_practical_salinity_4161sc_a_qc_tests      1\nsea_water_practical_salinity_6754mc_a_qc_tests      1\nsea_water_practical_salinity_6754mc_a_qc_agg        1\nsea_water_practical_salinity_4161sc_a_qc_agg        1\nsea_water_practical_salinity_10091sc_a              1\n\n[1148 rows x 1 columns]"
     ]
    }
   ],
   "source": [
    "kwargs = {\n",
    "          'kw': kw, \n",
    "          'approach': 'region',\n",
    "          'stations': '8771972',\n",
    "          'readers': [search.ErddapReader,\n",
    "                      search.axdsReader],\n",
    "                    \n",
    "          'ErddapReader': {\n",
    "                          'known_server': ['coastwatch','ioos'],\n",
    "                           'variables': [['sal'],\n",
    "                                         ['sal']]\n",
    "          },\n",
    "          'axdsReader': {\n",
    "                          'axds_type': ['platform2','layer_group'],\n",
    "                         'variables': ['sal',None]},\n",
    "}\n",
    "\n",
    "\n",
    "data = search.Data(**kwargs)"
   ]
  },
  {
   "cell_type": "markdown",
   "id": "c69afe52-1cdb-4fd2-ad76-f531b20592e8",
   "metadata": {},
   "source": [
    "You can do this process iteratively, trying out variables for each of the ERDDAP and Axiom readers until you get what you want. Once you have selected variables that match, the code won't complain anymore."
   ]
  },
  {
   "cell_type": "code",
   "execution_count": 30,
   "id": "f725d9c0-b5df-4932-b924-72fc4dcf6a33",
   "metadata": {
    "tags": []
   },
   "outputs": [],
   "source": [
    "kwargs = {\n",
    "          'kw': kw, \n",
    "          'approach': 'region',\n",
    "          'readers': [search.ErddapReader,\n",
    "                      search.axdsReader],\n",
    "                    \n",
    "          'ErddapReader': {\n",
    "                          'known_server': ['coastwatch','ioos'],\n",
    "                           'variables': [['salinity', 'sea_water_salinity'],\n",
    "                                         ['salinity', 'sea_water_practical_salinity']]\n",
    "          },\n",
    "          'axdsReader': {\n",
    "                          'axds_type': ['platform2','layer_group'],\n",
    "                         'variables': ['Salinity',None]},\n",
    "}\n",
    "\n",
    "data = search.Data(**kwargs)"
   ]
  },
  {
   "cell_type": "markdown",
   "id": "441f9e66-ad87-482c-8ca6-1ea55ace47c5",
   "metadata": {},
   "source": [
    "#### Actions with Variables"
   ]
  },
  {
   "cell_type": "markdown",
   "id": "31710632-0aec-422d-a8bb-d77ce073b9f6",
   "metadata": {},
   "source": [
    "Alternatively you can proactively search for variables for each reader. Currently the ways to call the individiual libraries aren't pretty but they'll work. Note that the number of times a variable is used in the system is also included under \"count\" to see what the popular names are (many are not widely used). \n",
    "\n",
    "Return all variables for the two Erddap `known_server`s, then for the Axiom reader `axds_type='platform2'`."
   ]
  },
  {
   "cell_type": "code",
   "execution_count": 31,
   "id": "50861a29-42a0-4107-a407-336f33457a09",
   "metadata": {
    "tags": []
   },
   "outputs": [
    {
     "data": {
      "text/html": [
       "<div>\n",
       "<style scoped>\n",
       "    .dataframe tbody tr th:only-of-type {\n",
       "        vertical-align: middle;\n",
       "    }\n",
       "\n",
       "    .dataframe tbody tr th {\n",
       "        vertical-align: top;\n",
       "    }\n",
       "\n",
       "    .dataframe thead th {\n",
       "        text-align: right;\n",
       "    }\n",
       "</style>\n",
       "<table border=\"1\" class=\"dataframe\">\n",
       "  <thead>\n",
       "    <tr style=\"text-align: right;\">\n",
       "      <th></th>\n",
       "      <th>count</th>\n",
       "    </tr>\n",
       "    <tr>\n",
       "      <th>variable</th>\n",
       "      <th></th>\n",
       "    </tr>\n",
       "  </thead>\n",
       "  <tbody>\n",
       "    <tr>\n",
       "      <th>abund_m3</th>\n",
       "      <td>2</td>\n",
       "    </tr>\n",
       "    <tr>\n",
       "      <th>ac_line</th>\n",
       "      <td>1</td>\n",
       "    </tr>\n",
       "    <tr>\n",
       "      <th>ac_sta</th>\n",
       "      <td>1</td>\n",
       "    </tr>\n",
       "    <tr>\n",
       "      <th>adg_412</th>\n",
       "      <td>8</td>\n",
       "    </tr>\n",
       "    <tr>\n",
       "      <th>adg_412_bias</th>\n",
       "      <td>8</td>\n",
       "    </tr>\n",
       "  </tbody>\n",
       "</table>\n",
       "</div>"
      ],
      "text/plain": [
       "              count\n",
       "variable           \n",
       "abund_m3          2\n",
       "ac_line           1\n",
       "ac_sta            1\n",
       "adg_412           8\n",
       "adg_412_bias      8"
      ]
     },
     "execution_count": 31,
     "metadata": {},
     "output_type": "execute_result"
    }
   ],
   "source": [
    "search.ErddapReader.ErddapReader(known_server='coastwatch').all_variables().head()"
   ]
  },
  {
   "cell_type": "code",
   "execution_count": 32,
   "id": "7fd63e93-a3d5-4e6e-86c6-7cc9e3e9d1d2",
   "metadata": {},
   "outputs": [
    {
     "data": {
      "text/html": [
       "<div>\n",
       "<style scoped>\n",
       "    .dataframe tbody tr th:only-of-type {\n",
       "        vertical-align: middle;\n",
       "    }\n",
       "\n",
       "    .dataframe tbody tr th {\n",
       "        vertical-align: top;\n",
       "    }\n",
       "\n",
       "    .dataframe thead th {\n",
       "        text-align: right;\n",
       "    }\n",
       "</style>\n",
       "<table border=\"1\" class=\"dataframe\">\n",
       "  <thead>\n",
       "    <tr style=\"text-align: right;\">\n",
       "      <th></th>\n",
       "      <th>count</th>\n",
       "    </tr>\n",
       "    <tr>\n",
       "      <th>variable</th>\n",
       "      <th></th>\n",
       "    </tr>\n",
       "  </thead>\n",
       "  <tbody>\n",
       "    <tr>\n",
       "      <th>air_pressure</th>\n",
       "      <td>4028</td>\n",
       "    </tr>\n",
       "    <tr>\n",
       "      <th>air_pressure_10011met_a</th>\n",
       "      <td>2</td>\n",
       "    </tr>\n",
       "    <tr>\n",
       "      <th>air_pressure_10311ahlm_a</th>\n",
       "      <td>2</td>\n",
       "    </tr>\n",
       "    <tr>\n",
       "      <th>air_pressure_10311ahlm_a_qc_agg</th>\n",
       "      <td>1</td>\n",
       "    </tr>\n",
       "    <tr>\n",
       "      <th>air_pressure_10311ahlm_a_qc_tests</th>\n",
       "      <td>1</td>\n",
       "    </tr>\n",
       "  </tbody>\n",
       "</table>\n",
       "</div>"
      ],
      "text/plain": [
       "                                   count\n",
       "variable                                \n",
       "air_pressure                        4028\n",
       "air_pressure_10011met_a                2\n",
       "air_pressure_10311ahlm_a               2\n",
       "air_pressure_10311ahlm_a_qc_agg        1\n",
       "air_pressure_10311ahlm_a_qc_tests      1"
      ]
     },
     "execution_count": 32,
     "metadata": {},
     "output_type": "execute_result"
    }
   ],
   "source": [
    "search.ErddapReader.ErddapReader(known_server='ioos').all_variables().head()"
   ]
  },
  {
   "cell_type": "markdown",
   "id": "dd537601-e0c6-41aa-bfb0-ea4efd957f9b",
   "metadata": {},
   "source": [
    "The Axiom reader variables are for `axds_type='platform2'` not `axds_type='layer_group` since the latter are more unique grid products that don't conform well."
   ]
  },
  {
   "cell_type": "code",
   "execution_count": 33,
   "id": "be3c7003-70a9-4032-a26b-ea455779300e",
   "metadata": {},
   "outputs": [
    {
     "data": {
      "text/html": [
       "<div>\n",
       "<style scoped>\n",
       "    .dataframe tbody tr th:only-of-type {\n",
       "        vertical-align: middle;\n",
       "    }\n",
       "\n",
       "    .dataframe tbody tr th {\n",
       "        vertical-align: top;\n",
       "    }\n",
       "\n",
       "    .dataframe thead th {\n",
       "        text-align: right;\n",
       "    }\n",
       "</style>\n",
       "<table border=\"1\" class=\"dataframe\">\n",
       "  <thead>\n",
       "    <tr style=\"text-align: right;\">\n",
       "      <th></th>\n",
       "      <th>count</th>\n",
       "    </tr>\n",
       "    <tr>\n",
       "      <th>variable</th>\n",
       "      <th></th>\n",
       "    </tr>\n",
       "  </thead>\n",
       "  <tbody>\n",
       "    <tr>\n",
       "      <th>Ammonium</th>\n",
       "      <td>23</td>\n",
       "    </tr>\n",
       "    <tr>\n",
       "      <th>Atmospheric Pressure: Air Pressure at Sea Level</th>\n",
       "      <td>362</td>\n",
       "    </tr>\n",
       "    <tr>\n",
       "      <th>Atmospheric Pressure: Barometric Pressure</th>\n",
       "      <td>4152</td>\n",
       "    </tr>\n",
       "    <tr>\n",
       "      <th>Backscatter Intensity</th>\n",
       "      <td>286</td>\n",
       "    </tr>\n",
       "    <tr>\n",
       "      <th>Battery</th>\n",
       "      <td>2705</td>\n",
       "    </tr>\n",
       "  </tbody>\n",
       "</table>\n",
       "</div>"
      ],
      "text/plain": [
       "                                                 count\n",
       "variable                                              \n",
       "Ammonium                                            23\n",
       "Atmospheric Pressure: Air Pressure at Sea Level    362\n",
       "Atmospheric Pressure: Barometric Pressure         4152\n",
       "Backscatter Intensity                              286\n",
       "Battery                                           2705"
      ]
     },
     "execution_count": 33,
     "metadata": {},
     "output_type": "execute_result"
    }
   ],
   "source": [
    "search.axdsReader.axdsReader().all_variables().head()"
   ]
  },
  {
   "cell_type": "markdown",
   "id": "295a780f-e036-4be6-9f2e-cf43a83cadec",
   "metadata": {},
   "source": [
    "Search for variables, sorted by how commonly used:"
   ]
  },
  {
   "cell_type": "code",
   "execution_count": 34,
   "id": "4a0016a4-ccc6-419c-bc67-eddfc6bde3d1",
   "metadata": {},
   "outputs": [
    {
     "data": {
      "text/html": [
       "<div>\n",
       "<style scoped>\n",
       "    .dataframe tbody tr th:only-of-type {\n",
       "        vertical-align: middle;\n",
       "    }\n",
       "\n",
       "    .dataframe tbody tr th {\n",
       "        vertical-align: top;\n",
       "    }\n",
       "\n",
       "    .dataframe thead th {\n",
       "        text-align: right;\n",
       "    }\n",
       "</style>\n",
       "<table border=\"1\" class=\"dataframe\">\n",
       "  <thead>\n",
       "    <tr style=\"text-align: right;\">\n",
       "      <th></th>\n",
       "      <th>count</th>\n",
       "    </tr>\n",
       "    <tr>\n",
       "      <th>variable</th>\n",
       "      <th></th>\n",
       "    </tr>\n",
       "  </thead>\n",
       "  <tbody>\n",
       "    <tr>\n",
       "      <th>salinity</th>\n",
       "      <td>73</td>\n",
       "    </tr>\n",
       "    <tr>\n",
       "      <th>salt</th>\n",
       "      <td>4</td>\n",
       "    </tr>\n",
       "    <tr>\n",
       "      <th>sea_water_salinity</th>\n",
       "      <td>4</td>\n",
       "    </tr>\n",
       "    <tr>\n",
       "      <th>surface_salinity_trend</th>\n",
       "      <td>2</td>\n",
       "    </tr>\n",
       "    <tr>\n",
       "      <th>bucket_salinity</th>\n",
       "      <td>1</td>\n",
       "    </tr>\n",
       "  </tbody>\n",
       "</table>\n",
       "</div>"
      ],
      "text/plain": [
       "                        count\n",
       "variable                     \n",
       "salinity                   73\n",
       "salt                        4\n",
       "sea_water_salinity          4\n",
       "surface_salinity_trend      2\n",
       "bucket_salinity             1"
      ]
     },
     "execution_count": 34,
     "metadata": {},
     "output_type": "execute_result"
    }
   ],
   "source": [
    "search.ErddapReader.ErddapReader(known_server='coastwatch').search_variables('sal').head()"
   ]
  },
  {
   "cell_type": "code",
   "execution_count": 35,
   "id": "94cb05ad-94bb-4574-916a-4995ce9e695c",
   "metadata": {},
   "outputs": [
    {
     "data": {
      "text/html": [
       "<div>\n",
       "<style scoped>\n",
       "    .dataframe tbody tr th:only-of-type {\n",
       "        vertical-align: middle;\n",
       "    }\n",
       "\n",
       "    .dataframe tbody tr th {\n",
       "        vertical-align: top;\n",
       "    }\n",
       "\n",
       "    .dataframe thead th {\n",
       "        text-align: right;\n",
       "    }\n",
       "</style>\n",
       "<table border=\"1\" class=\"dataframe\">\n",
       "  <thead>\n",
       "    <tr style=\"text-align: right;\">\n",
       "      <th></th>\n",
       "      <th>count</th>\n",
       "    </tr>\n",
       "    <tr>\n",
       "      <th>variable</th>\n",
       "      <th></th>\n",
       "    </tr>\n",
       "  </thead>\n",
       "  <tbody>\n",
       "    <tr>\n",
       "      <th>salinity</th>\n",
       "      <td>952</td>\n",
       "    </tr>\n",
       "    <tr>\n",
       "      <th>salinity_qc</th>\n",
       "      <td>952</td>\n",
       "    </tr>\n",
       "    <tr>\n",
       "      <th>sea_water_practical_salinity</th>\n",
       "      <td>778</td>\n",
       "    </tr>\n",
       "    <tr>\n",
       "      <th>soil_salinity_qc_agg</th>\n",
       "      <td>622</td>\n",
       "    </tr>\n",
       "    <tr>\n",
       "      <th>soil_salinity</th>\n",
       "      <td>622</td>\n",
       "    </tr>\n",
       "  </tbody>\n",
       "</table>\n",
       "</div>"
      ],
      "text/plain": [
       "                              count\n",
       "variable                           \n",
       "salinity                        952\n",
       "salinity_qc                     952\n",
       "sea_water_practical_salinity    778\n",
       "soil_salinity_qc_agg            622\n",
       "soil_salinity                   622"
      ]
     },
     "execution_count": 35,
     "metadata": {},
     "output_type": "execute_result"
    }
   ],
   "source": [
    "search.ErddapReader.ErddapReader(known_server='ioos').search_variables('sal').head()"
   ]
  },
  {
   "cell_type": "code",
   "execution_count": 36,
   "id": "8234d046-fa5d-4bbd-ac45-fe447ab0f6fb",
   "metadata": {},
   "outputs": [
    {
     "data": {
      "text/html": [
       "<div>\n",
       "<style scoped>\n",
       "    .dataframe tbody tr th:only-of-type {\n",
       "        vertical-align: middle;\n",
       "    }\n",
       "\n",
       "    .dataframe tbody tr th {\n",
       "        vertical-align: top;\n",
       "    }\n",
       "\n",
       "    .dataframe thead th {\n",
       "        text-align: right;\n",
       "    }\n",
       "</style>\n",
       "<table border=\"1\" class=\"dataframe\">\n",
       "  <thead>\n",
       "    <tr style=\"text-align: right;\">\n",
       "      <th></th>\n",
       "      <th>count</th>\n",
       "    </tr>\n",
       "    <tr>\n",
       "      <th>variable</th>\n",
       "      <th></th>\n",
       "    </tr>\n",
       "  </thead>\n",
       "  <tbody>\n",
       "    <tr>\n",
       "      <th>Salinity</th>\n",
       "      <td>3204</td>\n",
       "    </tr>\n",
       "    <tr>\n",
       "      <th>Soil Salinity</th>\n",
       "      <td>622</td>\n",
       "    </tr>\n",
       "  </tbody>\n",
       "</table>\n",
       "</div>"
      ],
      "text/plain": [
       "               count\n",
       "variable            \n",
       "Salinity        3204\n",
       "Soil Salinity    622"
      ]
     },
     "execution_count": 36,
     "metadata": {},
     "output_type": "execute_result"
    }
   ],
   "source": [
    "search.axdsReader.axdsReader().search_variables('sal').head()"
   ]
  },
  {
   "cell_type": "markdown",
   "id": "5d31764d-7e0b-45d6-bf83-276dce354850",
   "metadata": {},
   "source": [
    "And finally you can check to make sure you have good variables. No news is good news in this."
   ]
  },
  {
   "cell_type": "code",
   "execution_count": 37,
   "id": "ef07c909-cefe-41f0-9831-afad60a9b190",
   "metadata": {},
   "outputs": [],
   "source": [
    "search.ErddapReader.ErddapReader(known_server='coastwatch').check_variables(['salinity',\n",
    "                                                                            'sea_water_salinity'])"
   ]
  },
  {
   "cell_type": "code",
   "execution_count": 38,
   "id": "e175299f-30f4-4f80-b93b-293ac35077b1",
   "metadata": {},
   "outputs": [],
   "source": [
    "search.ErddapReader.ErddapReader(known_server='ioos').check_variables(['salinity',\n",
    "                                                                        'sea_water_practical_salinity'])"
   ]
  },
  {
   "cell_type": "code",
   "execution_count": 39,
   "id": "4b775064-0c8f-43fe-bb11-67d3129ed8f4",
   "metadata": {},
   "outputs": [],
   "source": [
    "search.axdsReader.axdsReader(axds_type='platform2').check_variables('Salinity')"
   ]
  },
  {
   "cell_type": "markdown",
   "id": "04bb3d80-a27a-4790-b0cc-f7c6be8d98fc",
   "metadata": {},
   "source": [
    "Or overall"
   ]
  },
  {
   "cell_type": "code",
   "execution_count": 55,
   "id": "acde95e5-dcf5-4b9e-be68-2bc0e5eb13fc",
   "metadata": {},
   "outputs": [],
   "source": [
    "kwargs = {\n",
    "          'kw': kw, \n",
    "          'approach': 'region',\n",
    "          'readers': [search.ErddapReader,\n",
    "                      search.axdsReader],\n",
    "\n",
    "          'ErddapReader': {\n",
    "                          'known_server': ['coastwatch','ioos'],\n",
    "                           'variables': [['salinity', 'sea_water_salinity'],\n",
    "                                         ['salinity', 'sea_water_practical_salinity']]\n",
    "          },\n",
    "          'axdsReader': {\n",
    "                          'axds_type': ['platform2','layer_group'],\n",
    "                         'variables': ['Salinity',None]},\n",
    "}\n",
    "\n",
    "data = search.Data(**kwargs)"
   ]
  },
  {
   "cell_type": "code",
   "execution_count": 56,
   "id": "fe9977a2-4644-44d3-9c77-412c2c3c7523",
   "metadata": {
    "tags": []
   },
   "outputs": [
    {
     "data": {
      "text/plain": [
       "[[],\n",
       " [],\n",
       " [],\n",
       " ['05113e8c-ea25-11e0-a998-0019b9dae22b',\n",
       "  '391183ee-827e-11e1-a4f3-00219bfe5678',\n",
       "  '071705de-8400-11e1-99fe-00219bfe5678',\n",
       "  '1f22a216-2565-11e3-8377-00219bfe5678',\n",
       "  'd069dd3f-09da-4295-964e-bbbc0ad554b8',\n",
       "  '8899968a-2567-11e3-89f6-00219bfe5678',\n",
       "  'fd646e28-2566-11e3-9bc9-00219bfe5678',\n",
       "  '8a33cf06-2567-11e3-9bc7-00219bfe5678',\n",
       "  'de91c282-01e2-11e2-ad19-00219bfe5671',\n",
       "  'de91c282-01e2-11e2-ad19-00219bfe5679',\n",
       "  'de91c282-01e2-11e2-ad19-00219bfe5670',\n",
       "  'dd2af856-c36f-4b4c-9452-2c39a07d5178',\n",
       "  '06eff4a2-60b2-4b5a-8f4b-931597f6e156',\n",
       "  '49b40d84-7ae1-4217-9ec5-4c6524bb06b0',\n",
       "  '1ec2a7e4-08db-40d3-ab41-4251cd3633bb',\n",
       "  '3b314775-4efa-4717-98ec-04dd9e436127',\n",
       "  '4bbceb3c-00d7-4af9-a8c7-81d38dd767ce',\n",
       "  '4dd92df2-d9a8-460b-98cd-3395858c19f5',\n",
       "  '45d182be-1a8f-4b36-9fc8-c829248d8512',\n",
       "  '3bbc741a-966c-4547-b08b-ad57f9493e57',\n",
       "  '3651d05b-e120-49e2-ace1-9cf27e68d820',\n",
       "  'd359748a-fe78-11e7-8128-0023aeec7b98',\n",
       "  '5d7e406a-d38d-482d-ab4f-71c8bb3d15b5',\n",
       "  '3261285c-e3c9-45fd-b777-e6d681a3eaad',\n",
       "  'bfad2268-7905-42af-bdb1-8c16cb49261b',\n",
       "  'e873784f-7201-416f-bb26-6061c82af388',\n",
       "  'cc3f4424-1bf4-11e3-b4e6-00219bfe5678',\n",
       "  'b365df3d-034e-4fd2-beb7-7cf600879eec',\n",
       "  'b82c5ef8-a02a-48a2-986b-b97f71faefa5',\n",
       "  '99737f5d-c984-4bf0-82cd-18508fea413f',\n",
       "  '54fc4092-6cd4-4e8f-b61d-479ba6994619',\n",
       "  'ddf4b863-9546-4b2a-a427-c267604ba13a',\n",
       "  '05503cb4-4e8c-4acf-a230-216b5c90df8f']]"
      ]
     },
     "execution_count": 56,
     "metadata": {},
     "output_type": "execute_result"
    }
   ],
   "source": [
    "data.dataset_ids"
   ]
  },
  {
   "cell_type": "markdown",
   "id": "33844188-32cd-410a-9dee-3e90d8fa5bd5",
   "metadata": {},
   "source": [
    "### By Name\n",
    "\n",
    "You can search by either a general station name to be searched for, or by the specific database dataset_id if you know it (from performing a search previously, for example)."
   ]
  },
  {
   "cell_type": "markdown",
   "id": "e8c13fcc-65d0-4d7b-80e4-e523e02d18e8",
   "metadata": {},
   "source": [
    "#### By Station\n",
    "\n",
    "In the case that you know names of stations, but they might not be the names in the particular databases, you can use this approach.\n",
    "\n",
    "In the follow example, I use some station id's I know off the top of my head. Note that the dataset_ids are returned in order of the readers that are being used (ERDDAP IOOS, ERDDAP Coastwatch, Axiom platform2, Axiom layer_group, localreader). The module will check all of the readers for the station names."
   ]
  },
  {
   "cell_type": "code",
   "execution_count": 42,
   "id": "654f7119-8696-4170-a325-5e13cae15256",
   "metadata": {
    "tags": []
   },
   "outputs": [],
   "source": [
    "kwargs = {\n",
    "          'approach': 'stations',\n",
    "          'stations': ['8771972','SFBOFS','42020','TABS_B']\n",
    "}\n",
    "data = search.Data(**kwargs)"
   ]
  },
  {
   "cell_type": "code",
   "execution_count": 43,
   "id": "38d83fc2-0bb2-48a2-8f7e-0fdcae82d41c",
   "metadata": {},
   "outputs": [
    {
     "data": {
      "text/plain": [
       "[['wmo_42020', 'noaa_nos_co_ops_8771972', 'tabs_b'],\n",
       " [],\n",
       " [],\n",
       " ['03158b5d-f712-45f2-b05d-e4954372c1ce',\n",
       "  '794f7bba-b3d2-4da8-8465-408c27ab433b'],\n",
       " []]"
      ]
     },
     "execution_count": 43,
     "metadata": {},
     "output_type": "execute_result"
    }
   ],
   "source": [
    "data.dataset_ids"
   ]
  },
  {
   "cell_type": "markdown",
   "id": "17a8d226-87c8-4b21-a722-aab1835599c1",
   "metadata": {},
   "source": [
    "#### By Dataset ID\n",
    "\n",
    "Once we know the database dataset_ids, we can use them directly for future searches:"
   ]
  },
  {
   "cell_type": "code",
   "execution_count": 44,
   "id": "9e2b6e46-f295-461e-b148-653ca940d28d",
   "metadata": {},
   "outputs": [],
   "source": [
    "kwargs = {\n",
    "          'approach': 'stations',\n",
    "          'ErddapReader': {\n",
    "                          'known_server': ['ioos'],\n",
    "                           'dataset_ids': [['tabs_b', 'wmo_42020', 'noaa_nos_co_ops_8771972']]\n",
    "          },\n",
    "          'axdsReader': {\n",
    "                          'axds_type': ['layer_group'],\n",
    "                         'dataset_ids': [['03158b5d-f712-45f2-b05d-e4954372c1ce']]},\n",
    "\n",
    "}\n",
    "data = search.Data(**kwargs)"
   ]
  },
  {
   "cell_type": "code",
   "execution_count": 45,
   "id": "66a24643-476a-4355-8476-68c6d13f42ce",
   "metadata": {},
   "outputs": [
    {
     "data": {
      "text/plain": [
       "[['tabs_b', 'wmo_42020', 'noaa_nos_co_ops_8771972'],\n",
       " ['03158b5d-f712-45f2-b05d-e4954372c1ce'],\n",
       " []]"
      ]
     },
     "execution_count": 45,
     "metadata": {},
     "output_type": "execute_result"
    }
   ],
   "source": [
    "data.dataset_ids"
   ]
  },
  {
   "cell_type": "markdown",
   "id": "25ac1a02-fcb6-44f3-90d2-2b3c5801afd4",
   "metadata": {},
   "source": [
    "#### Include Time Range\n",
    "\n",
    "By default, the full available time range will be returned for each dataset unless the user specifies one to narrow the returned datasets in time."
   ]
  },
  {
   "cell_type": "code",
   "execution_count": 46,
   "id": "76274f97-d9ef-4a67-a1c1-7b21d8555ae7",
   "metadata": {},
   "outputs": [],
   "source": [
    "kwargs = {\n",
    "          'kw': {'min_time': '2017-1-1', \n",
    "                 'max_time': '2017-1-2'},\n",
    "          'approach': 'stations',\n",
    "          'stations': ['8771972']\n",
    "}\n",
    "data = search.Data(**kwargs)"
   ]
  },
  {
   "cell_type": "markdown",
   "id": "8e0f3575-4ac6-44f2-9126-be9a95bc60bc",
   "metadata": {},
   "source": [
    "## Reader Options"
   ]
  },
  {
   "cell_type": "markdown",
   "id": "963a0b03-f1a5-4e2d-87c7-fbfaa6da2030",
   "metadata": {},
   "source": [
    "### ERDDAP Reader\n",
    "\n",
    "By default, the Data module will use `ErddapReader` with two known servers: IOOS and Coastwatch. "
   ]
  },
  {
   "cell_type": "code",
   "execution_count": 47,
   "id": "57a52c37-a458-4045-bef6-93e42aa7632a",
   "metadata": {},
   "outputs": [
    {
     "data": {
      "text/plain": [
       "('erddap_ioos', 'erddap_coastwatch')"
      ]
     },
     "execution_count": 47,
     "metadata": {},
     "output_type": "execute_result"
    }
   ],
   "source": [
    "kwargs = {\n",
    "          'kw': kw,\n",
    "          'approach': 'region',\n",
    "          'readers': [search.ErddapReader]\n",
    "}\n",
    "data = search.Data(**kwargs)\n",
    "data.sources[0].name, data.sources[1].name"
   ]
  },
  {
   "cell_type": "markdown",
   "id": "b220033b-02b6-4b78-a18a-81d92847a452",
   "metadata": {},
   "source": [
    "#### Specify Known Server\n",
    "\n",
    "The user can specify to use just one of these:"
   ]
  },
  {
   "cell_type": "code",
   "execution_count": 48,
   "id": "deb6426b-a8ad-46cc-80b6-17ac94745af0",
   "metadata": {},
   "outputs": [
    {
     "data": {
      "text/plain": [
       "'erddap_ioos'"
      ]
     },
     "execution_count": 48,
     "metadata": {},
     "output_type": "execute_result"
    }
   ],
   "source": [
    "kwargs = {\n",
    "          'kw': kw,\n",
    "          'approach': 'region',\n",
    "          'readers': [search.ErddapReader],\n",
    "          'ErddapReader': {\n",
    "                          'known_server': ['ioos'],  # or 'coastwatch'\n",
    "          }\n",
    "}\n",
    "data = search.Data(**kwargs)\n",
    "data.sources[0].name"
   ]
  },
  {
   "cell_type": "markdown",
   "id": "6b813c6c-9b3d-4686-8de2-c37462f74f6f",
   "metadata": {},
   "source": [
    "#### New ERDDAP Server\n",
    "\n",
    "You can give the necessary information to use a different ERDDAP server."
   ]
  },
  {
   "cell_type": "code",
   "execution_count": 49,
   "id": "f787383a-6217-45db-803d-b43aa79baff0",
   "metadata": {},
   "outputs": [],
   "source": [
    "kwargs = {\n",
    "          'kw': kw,\n",
    "          'approach': 'region',\n",
    "          'readers': [search.ErddapReader],\n",
    "            'ErddapReader': {\n",
    "                'known_server': 'ifremer',\n",
    "                'protocol': 'tabledap',\n",
    "                'server': 'http://www.ifremer.fr/erddap'\n",
    "            }\n",
    "}\n",
    "data = search.Data(**kwargs)"
   ]
  },
  {
   "cell_type": "code",
   "execution_count": 50,
   "id": "d78afea4-8e65-46a5-a37b-b732a7bac65d",
   "metadata": {},
   "outputs": [
    {
     "data": {
      "text/plain": [
       "[['OceanGlidersGDACTrajectories', 'ArgoFloats-synthetic-BGC', 'ArgoFloats']]"
      ]
     },
     "execution_count": 50,
     "metadata": {},
     "output_type": "execute_result"
    }
   ],
   "source": [
    "data.dataset_ids"
   ]
  },
  {
   "cell_type": "markdown",
   "id": "20a403e7-db55-4b91-83fa-589de36d57e5",
   "metadata": {},
   "source": [
    "### AXDS Reader\n",
    "\n",
    "By default the Data module will use `axdsReader` with two types of data, `platform2` (like gliders) or `layer_group` (model output). "
   ]
  },
  {
   "cell_type": "code",
   "execution_count": 51,
   "id": "a1e6057d-a21e-4666-8869-5c96bbc67aad",
   "metadata": {},
   "outputs": [
    {
     "data": {
      "text/plain": [
       "('axds_platform2', 'axds_layer_group')"
      ]
     },
     "execution_count": 51,
     "metadata": {},
     "output_type": "execute_result"
    }
   ],
   "source": [
    "kwargs = {\n",
    "          'kw': kw,\n",
    "          'approach': 'region',\n",
    "          'readers': [search.axdsReader]\n",
    "}\n",
    "data = search.Data(**kwargs)\n",
    "data.sources[0].name, data.sources[1].name"
   ]
  },
  {
   "cell_type": "markdown",
   "id": "9f28dfaa-8062-4883-98f8-022f0d3d17c8",
   "metadata": {},
   "source": [
    "#### Specify AXDS Type\n",
    "\n",
    "The user can specify to use just one of these:"
   ]
  },
  {
   "cell_type": "code",
   "execution_count": 52,
   "id": "458fe847-ff52-42a3-9b8b-e39a8a2a0b30",
   "metadata": {},
   "outputs": [
    {
     "data": {
      "text/plain": [
       "'axds_platform2'"
      ]
     },
     "execution_count": 52,
     "metadata": {},
     "output_type": "execute_result"
    }
   ],
   "source": [
    "kwargs = {\n",
    "          'kw': kw,\n",
    "          'approach': 'region',\n",
    "          'readers': [search.axdsReader],\n",
    "          'axdsReader': {\n",
    "                          'axds_type': 'platform2',  # or 'layer_group'\n",
    "          }\n",
    "}\n",
    "data = search.Data(**kwargs)\n",
    "data.sources[0].name"
   ]
  },
  {
   "cell_type": "markdown",
   "id": "8fc0d0e4-62ab-492e-bf0a-5263564e8145",
   "metadata": {},
   "source": [
    "### Local Files\n",
    "\n",
    "I can't remember the process by which I got these files from a portal now, but they are just meant to be sample files anyway. Hopefully this will work reasonably with other files too.\n",
    "\n",
    "The `region` and `stations` approach doesn't work as well with local files if the user would only be inputting filenames if they know they want to use them. It could be useful to use the approaches in the case that the user has a bunch of files somewhere or a catalog that already exists and they just want to point to that and have the code filter down. That code is not in place but could be if that is a good use case.\n",
    "\n",
    "So it currently doesn't matter which approach is used for local files. There is a default `kw` and `region` if nothing is input and in this case that is fine since neither are used."
   ]
  },
  {
   "cell_type": "code",
   "execution_count": 53,
   "id": "2830768a-e713-4cfe-92e6-0b3ab8bf5d38",
   "metadata": {},
   "outputs": [],
   "source": [
    "filenames = ['/Users/kthyng/Downloads/ANIMIDA_III_BeaufortSea_2014-2015/kasper-netcdf/ANIMctd14.nc',\n",
    "             '/Users/kthyng/Downloads/Harrison_Bay_CTD_MooringData_2014-2015/Harrison_Bay_data/SBE16plus_01604787_2015_08_09_final.csv']\n",
    "\n",
    "data = search.Data(readers=search.localReader, localReader={'filenames': filenames})"
   ]
  },
  {
   "cell_type": "markdown",
   "id": "1bcd2325-ed7f-4468-8d82-2636d50d18cb",
   "metadata": {},
   "source": [
    "Can look at metadata or data"
   ]
  },
  {
   "cell_type": "code",
   "execution_count": 54,
   "id": "13376a5a-6313-4515-aafd-f96be42ffac4",
   "metadata": {},
   "outputs": [
    {
     "data": {
      "text/plain": [
       "[                                                                              download_url  \\\n",
       " ANIMctd14.nc                             /Users/kthyng/Downloads/ANIMIDA_III_BeaufortSe...   \n",
       " SBE16plus_01604787_2015_08_09_final.csv  /Users/kthyng/Downloads/Harrison_Bay_CTD_Moori...   \n",
       " \n",
       "                                                  geospatial_lat_max  \\\n",
       " ANIMctd14.nc                             [time, lat, lon, pressure]   \n",
       " SBE16plus_01604787_2015_08_09_final.csv                     70.6349   \n",
       " \n",
       "                                                                         geospatial_lat_min  \\\n",
       " ANIMctd14.nc                             [station_name, sal, tem, fluoro, turbidity, PA...   \n",
       " SBE16plus_01604787_2015_08_09_final.csv                                            70.6349   \n",
       " \n",
       "                                                                         geospatial_lon_max  \\\n",
       " ANIMctd14.nc                             /Users/kthyng/projects/boem_datasets/notebooks...   \n",
       " SBE16plus_01604787_2015_08_09_final.csv                                           -150.237   \n",
       " \n",
       "                                          geospatial_lon_min  \\\n",
       " ANIMctd14.nc                                            NaN   \n",
       " SBE16plus_01604787_2015_08_09_final.csv            -150.237   \n",
       " \n",
       "                                             time_coverage_end  \\\n",
       " ANIMctd14.nc                                             None   \n",
       " SBE16plus_01604787_2015_08_09_final.csv  2015-08-09T06:00:05Z   \n",
       " \n",
       "                                           time_coverage_start  \\\n",
       " ANIMctd14.nc                                             None   \n",
       " SBE16plus_01604787_2015_08_09_final.csv  2014-08-01T12:00:05Z   \n",
       " \n",
       "                                                                                  variables  \\\n",
       " ANIMctd14.nc                                                                          None   \n",
       " SBE16plus_01604787_2015_08_09_final.csv  [time, latitude, longitude, water_depth, Condu...   \n",
       " \n",
       "                                                                                catalog_dir  \n",
       " ANIMctd14.nc                                                                          None  \n",
       " SBE16plus_01604787_2015_08_09_final.csv  /Users/kthyng/projects/boem_datasets/notebooks...  ]"
      ]
     },
     "execution_count": 54,
     "metadata": {},
     "output_type": "execute_result"
    }
   ],
   "source": [
    "data.meta \n",
    "# data.data"
   ]
  },
  {
   "cell_type": "code",
   "execution_count": null,
   "id": "85063278-4f5a-4b11-b736-2b674ce8dbde",
   "metadata": {},
   "outputs": [],
   "source": []
  }
 ],
 "metadata": {
  "kernelspec": {
   "display_name": "Python 3",
   "language": "python",
   "name": "python3"
  },
  "language_info": {
   "codemirror_mode": {
    "name": "ipython",
    "version": 3
   },
   "file_extension": ".py",
   "mimetype": "text/x-python",
   "name": "python",
   "nbconvert_exporter": "python",
   "pygments_lexer": "ipython3",
   "version": "3.8.8"
  }
 },
 "nbformat": 4,
 "nbformat_minor": 5
}
